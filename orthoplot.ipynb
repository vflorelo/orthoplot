{
 "cells": [
  {
   "cell_type": "markdown",
   "id": "46e73412-61fb-4e6b-9fa0-89fed2186600",
   "metadata": {},
   "source": [
    "# 0. Preparing the environment\n",
    "\n",
    "## This will only load the required libraries, in R, the equivalent is to call `library(\"tidiverse\")`\n",
    "\n",
    "## We will also declare a function we'll use later"
   ]
  },
  {
   "cell_type": "code",
   "execution_count": 1,
   "id": "166c5c47-e542-4f0f-8192-7aa98d4cc24c",
   "metadata": {},
   "outputs": [],
   "source": [
    "import ipywidgets as     widgets\n",
    "import numpy      as     np\n",
    "import pandas     as     pd\n",
    "import seaborn    as     sns\n",
    "from   matplotlib import pyplot as plt\n",
    "from   pyDOE2     import ff2n\n",
    "from   upsetplot  import UpSet,plot"
   ]
  },
  {
   "cell_type": "code",
   "execution_count": 2,
   "id": "08f2ae10-9856-4154-b7ba-ac3fa8a23793",
   "metadata": {},
   "outputs": [],
   "source": [
    "def get_og_class(og_tuple):\n",
    "    og_class = binary_dict[og_tuple]\n",
    "    return og_class"
   ]
  },
  {
   "cell_type": "markdown",
   "id": "28275dbf-0986-44e0-b2d2-394147ad7ec8",
   "metadata": {},
   "source": [
    "# 1. Preparing the files"
   ]
  },
  {
   "cell_type": "markdown",
   "id": "ede47cfb-1e31-4a35-b1d5-e06504a9cf48",
   "metadata": {},
   "source": [
    "## Two files are required for the analysis:\n",
    "\n",
    "- ### `Orthogroups.GeneCount.tsv` that, as the name implies, contains the number of genes per orthogroup per species\n",
    "- ### `Orthogroups.GeneCount.tsv` that, as the name implies, contains the number of exclusive genes per species\n",
    "\n",
    "### We will load the files into separate pandas dataframes.\n",
    "### In addition, from the dataframe header we will extract a list of the species"
   ]
  },
  {
   "cell_type": "code",
   "execution_count": 5,
   "id": "96c51f16-3da2-42b0-973c-a5dfb2a938d8",
   "metadata": {},
   "outputs": [],
   "source": [
    "assigned_df   = pd.read_csv(\"Orthogroups.GeneCount.tsv\",sep=\"\\t\")\n",
    "unassigned_df = pd.read_csv(\"Orthogroups_UnassignedGenes.tsv\",sep=\"\\t\",dtype=str).fillna(\"\")\n",
    "org_list      = list(assigned_df.columns.values)[1:-1]"
   ]
  },
  {
   "cell_type": "markdown",
   "id": "c2586135-5195-47a7-8da6-ea7a8393bc27",
   "metadata": {},
   "source": [
    "### Because the list of unassigned genes contains an \"orthogroup\" per gene per species, the resulting dataframe is excessively long, witht the following lines we can collapse the dataframe into a symmetrical matrix containing a single row per species indicating how many exclusive genes per species we have"
   ]
  },
  {
   "cell_type": "code",
   "execution_count": 6,
   "id": "8f79d856-a466-4d0e-be5a-2ec8d2ddd19c",
   "metadata": {},
   "outputs": [],
   "source": [
    "missing_list = []\n",
    "for org_name in org_list:\n",
    "    org_index = str(org_list.index(org_name))\n",
    "    missed_og_name = \"MISSING_OG\"+org_index\n",
    "    sub_total = len(unassigned_df[unassigned_df[org_name]!= \"\"])\n",
    "    missed_og_dict = {}\n",
    "    missed_og_dict[\"Orthogroup\"] = missed_og_name\n",
    "    for sub_org in org_list:\n",
    "        if (sub_org==org_name):\n",
    "            sub_total_value = sub_total\n",
    "        else:\n",
    "            sub_total_value = 0\n",
    "        missed_og_dict[sub_org] = sub_total_value\n",
    "    missing_list.append(missed_og_dict)\n",
    "missing_df = pd.DataFrame.from_records(missing_list)"
   ]
  },
  {
   "cell_type": "markdown",
   "id": "4d4ac5c7-b45a-411f-b563-135dc001cfa0",
   "metadata": {},
   "source": [
    "### And then we can put the two dataframes together"
   ]
  },
  {
   "cell_type": "code",
   "execution_count": 7,
   "id": "f00e2ab2-6296-4335-83e0-a79f3cdd6c3a",
   "metadata": {},
   "outputs": [],
   "source": [
    "ortho_df = pd.concat([assigned_df, missing_df], sort=False)"
   ]
  },
  {
   "cell_type": "code",
   "execution_count": null,
   "id": "a0aca47e-4623-4225-ba53-defa66ea33d2",
   "metadata": {},
   "outputs": [],
   "source": [
    "o"
   ]
  },
  {
   "cell_type": "markdown",
   "id": "03735ea7-5d6f-4635-97a0-40b9484601b1",
   "metadata": {},
   "source": [
    "# 2. Selecting the species"
   ]
  },
  {
   "cell_type": "markdown",
   "id": "abe8deea-54ce-4734-ba03-31af7beafb51",
   "metadata": {},
   "source": [
    "## The following code is just to make things interactive, here you can select as many species as you want for your figure\n",
    "\n",
    "> ## Note that if you modify the list of selected species, you need to run all cells from here onwards"
   ]
  },
  {
   "cell_type": "code",
   "execution_count": 8,
   "id": "060be0e2-819c-4424-ab8d-ecb9b9676ee9",
   "metadata": {},
   "outputs": [
    {
     "data": {
      "application/vnd.jupyter.widget-view+json": {
       "model_id": "daf9ad863d0f4bb5afba0d024afc8a8a",
       "version_major": 2,
       "version_minor": 0
      },
      "text/plain": [
       "VBox(children=(Checkbox(value=False, description='Acanthamoeba_castellani.NEFF', indent=False), Checkbox(value…"
      ]
     },
     "metadata": {},
     "output_type": "display_data"
    }
   ],
   "source": [
    "checkboxes = [widgets.Checkbox(value=False, description=label,indent=False) for label in org_list]\n",
    "output = widgets.VBox(children=checkboxes,)\n",
    "display(output)"
   ]
  },
  {
   "cell_type": "code",
   "execution_count": 9,
   "id": "1ab9e41e-4808-4ebf-8141-035b140c2e59",
   "metadata": {},
   "outputs": [],
   "source": [
    "sel_org_list = []\n",
    "for i in range(0, len(checkboxes)):\n",
    "    if checkboxes[i].value == True:\n",
    "        sel_org_list = sel_org_list + [checkboxes[i].description]"
   ]
  },
  {
   "cell_type": "markdown",
   "id": "ce25ed7e-a211-471e-887d-4aa7591a6a92",
   "metadata": {},
   "source": [
    "### Based on the selected organisms, we'll build a binary matrix that includes all the possibilities for an orthogroup to be shared across the number of species\n",
    "\n",
    "### As an example, a list of 3 organisms will produce 8 different orthogroup classes\n",
    "\n",
    "|Species 1|Species 2|Species 3|Orthogroup class|\n",
    "|:-------:|:-------:|:-------:|:--------------:|\n",
    "|Present  |Present  |Present  |        0       |\n",
    "|Present  |Present  |Absent   |        1       |\n",
    "|Present  |Absent   |Present  |        2       |\n",
    "|Present  |Absent   |Absent   |        3       |\n",
    "|Absent   |Present  |Present  |        4       |\n",
    "|Absent   |Present  |Absent   |        5       |\n",
    "|Absent   |Absent   |Present  |        6       |\n",
    "|Absent   |Absent   |Absent   |        7       |\n",
    "\n",
    "### The number of orthogroup classes grows exponentially with respect to the number of organisms, this is also the number of bars in your figure, thus, it is important to keep the number sensible not to produce an overly large and massively unreadable figure, also, not to consume too much memory"
   ]
  },
  {
   "cell_type": "code",
   "execution_count": 10,
   "id": "203f4523-5610-402b-8199-cb2307a17e98",
   "metadata": {},
   "outputs": [],
   "source": [
    "num_sel_orgs  = len(sel_org_list)\n",
    "binary_matrix = ff2n(num_sel_orgs)\n",
    "binary_list   = binary_matrix.tolist()\n",
    "binary_tuple  = [tuple(row) for row in binary_list]\n",
    "class_list    = list(range(0,len(binary_tuple)))\n",
    "binary_dict   = dict(zip(binary_tuple,class_list))"
   ]
  },
  {
   "cell_type": "markdown",
   "id": "cab87129-9358-4480-af98-9ab0b9d8fd93",
   "metadata": {},
   "source": [
    "# 3. Data transformation"
   ]
  },
  {
   "cell_type": "markdown",
   "id": "add85a4c-620e-4156-ac0e-be8261dd9cf1",
   "metadata": {},
   "source": [
    "## We will produce two additional columns, one containing the number of orthogroups, and another containing the number of genes, that will make sense later"
   ]
  },
  {
   "cell_type": "code",
   "execution_count": 11,
   "id": "31b5d2e8-d473-4986-9d77-3144478b3fde",
   "metadata": {},
   "outputs": [],
   "source": [
    "sub_cols  = [\"Orthogroup\"] + sel_org_list\n",
    "sub_df    = ortho_df.copy()\n",
    "sub_df    = sub_df[sub_cols]\n",
    "sub_df[\"gene_total\"] = sub_df.loc[:,sub_df.columns != \"Orthogroup\"].apply(np.sum, axis=1)\n",
    "sub_df    = sub_df[sub_df[\"gene_total\"]!=0]\n",
    "for org_name in sel_org_list:\n",
    "    sub_df[org_name] = sub_df[org_name].apply(lambda x: 1 if x > 0 else -1)\n",
    "sub_df[\"og_total\"] = sub_df.apply(lambda x: x[\"gene_total\"] if \"MISS\" in x[\"Orthogroup\"] else 1,axis=1)"
   ]
  },
  {
   "cell_type": "markdown",
   "id": "76c4f8d1-0767-4b01-98d4-0a69b7c20fe3",
   "metadata": {},
   "source": [
    "## We then encode the orthogroup dataframe into a binary matrix so that we can decode the orthogroup classes based on their presence or absence across the selected species"
   ]
  },
  {
   "cell_type": "code",
   "execution_count": 12,
   "id": "5de7d130-45d4-46e0-bdaf-f6aa6a4eb379",
   "metadata": {},
   "outputs": [],
   "source": [
    "sub_df[\"og_class\"] = sub_df[sel_org_list].apply(lambda x: get_og_class(tuple(x.values.flatten().tolist())),axis=1)"
   ]
  },
  {
   "cell_type": "markdown",
   "id": "dbd1c120-6a67-483d-877e-07b8c7ad95d8",
   "metadata": {},
   "source": [
    "## Then we calculate the total number of orthogroups and the total number of genes per class"
   ]
  },
  {
   "cell_type": "code",
   "execution_count": 13,
   "id": "7af99091-fb74-483c-96ae-4e26306cf9f2",
   "metadata": {},
   "outputs": [],
   "source": [
    "tuple_list        = []\n",
    "class_og_totals   = []\n",
    "class_gene_totals = []\n",
    "for value in binary_dict.values():\n",
    "    presence_tuple = [k for k,v in binary_dict.items() if v == value][0]\n",
    "    presence_list  = list(presence_tuple)\n",
    "    index_list = []\n",
    "    for dummy,(matrix_value,organism) in enumerate(zip(presence_list,sel_org_list)):\n",
    "        if matrix_value == 1:\n",
    "            index_list.append(True)\n",
    "        else:\n",
    "            index_list.append(False)\n",
    "    class_og_total   = np.sum(sub_df[sub_df[\"og_class\"]==value][\"og_total\"])\n",
    "    class_gene_total = np.sum(sub_df[sub_df[\"og_class\"]==value][\"gene_total\"])\n",
    "    class_og_totals.append(class_og_total)\n",
    "    class_gene_totals.append(class_gene_total)\n",
    "    index_tuple = tuple(index_list)\n",
    "    tuple_list.append(index_tuple)"
   ]
  },
  {
   "cell_type": "markdown",
   "id": "e2be3563-fb94-4087-a3de-18ef5e4dbe92",
   "metadata": {},
   "source": [
    "## Based on the number of species and the number of classes we'll build two dataframes, one containing the total number of orthogroups per class and one containing the total number of genes per class"
   ]
  },
  {
   "cell_type": "code",
   "execution_count": 14,
   "id": "6e18af57-4843-4cb6-a199-fea91646ccb8",
   "metadata": {},
   "outputs": [],
   "source": [
    "multi_index = pd.MultiIndex.from_tuples(tuple_list,names=sel_org_list)\n",
    "upset_og_df   = pd.Series(class_og_totals,index=multi_index)\n",
    "upset_gene_df = pd.Series(class_gene_totals,index=multi_index)"
   ]
  },
  {
   "cell_type": "markdown",
   "id": "442b98b9-6210-4ae0-8ffe-379842ffed9a",
   "metadata": {},
   "source": [
    "# 4. Plotting your results"
   ]
  },
  {
   "cell_type": "markdown",
   "id": "3aca2842-c1ea-463c-bc18-39d186b8ab4e",
   "metadata": {},
   "source": [
    "## Once you have the last two dataframes, you can plot them with the following code, the options are self explanatory and you can save your figure to a file, the extension dictates the file format"
   ]
  },
  {
   "cell_type": "markdown",
   "id": "921adbcd-e2b6-43ec-b807-10bc2d522b49",
   "metadata": {},
   "source": [
    "### Code to plot the orthogroup totals"
   ]
  },
  {
   "cell_type": "code",
   "execution_count": 15,
   "id": "b0544ab1-5bb1-4b22-a401-f13b398f93ef",
   "metadata": {},
   "outputs": [
    {
     "data": {
      "image/png": "[encoded data removed]",
      "text/plain": [
       "<Figure size 1440x720 with 4 Axes>"
      ]
     },
     "metadata": {
      "needs_background": "light"
     },
     "output_type": "display_data"
    }
   ],
   "source": [
    "fig = plt.figure(figsize=(20,10))\n",
    "upset = plot(upset_og_df, fig=fig, element_size=None,show_counts=True)\n",
    "plt.suptitle(\"Your legend goes here\")\n",
    "plt.savefig(\"og_upset_plot.svg\")\n",
    "plt.show()"
   ]
  },
  {
   "cell_type": "markdown",
   "id": "242bab5f-085a-4da3-baa0-5c4fd5aa1165",
   "metadata": {},
   "source": [
    "### Code to plot the gene totals"
   ]
  },
  {
   "cell_type": "code",
   "execution_count": 16,
   "id": "b04fa6b7-0be9-407b-961c-ca643b3b6502",
   "metadata": {},
   "outputs": [
    {
     "data": {
      "image/png": "[encoded data removed]",
      "text/plain": [
       "<Figure size 1440x720 with 4 Axes>"
      ]
     },
     "metadata": {
      "needs_background": "light"
     },
     "output_type": "display_data"
    }
   ],
   "source": [
    "fig = plt.figure(figsize=(20,10))\n",
    "upset = plot(upset_gene_df, fig=fig, element_size=None,show_counts=True)\n",
    "plt.suptitle(\"Your legend goes here\")\n",
    "plt.savefig(\"gene_upset_plot.svg\")\n",
    "plt.show()"
   ]
  },
  {
   "cell_type": "markdown",
   "id": "4b511efb-ad58-44c2-aaac-04e5a314ba32",
   "metadata": {},
   "source": [
    "# 5. Notes"
   ]
  },
  {
   "cell_type": "markdown",
   "id": "40d0048f-e479-4dad-8c91-575b24883226",
   "metadata": {},
   "source": [
    "## As opposed to plotting the missing values across different channels in TMT tagging, plotting the results of orthogroups presents specific challenges:\n",
    "\n",
    "- ### The number of genes per orthogroup might be different across species\n",
    "- ### The identifiers of shared genes are not identical across species\n",
    "- ### The number of genes per species might differ quite significantly\n",
    "\n",
    "## Let's consider the following toy example:\n",
    "\n",
    "|Orthogroup|Species 1|Species 2|Species 3|OG Class|\n",
    "|:--------:|:-------:|:-------:|:-------:|:------:|\n",
    "|OG0001    |  1000   |     1   |   10    |    0   |\n",
    "|OG0002    |     1   |  1000   |   10    |    0   |\n",
    "|OG0003    |    10   |     0   |   10    |    2   |\n",
    "|OG0004    |     0   |    10   |   10    |    4   |\n",
    "\n",
    "The resulting plot will display results that might be somewhat deceiving, 2 Orthogroups shared across the 3 species, 1 orthogroup shared across 2 species, and 1 orthogroup shared in 2 different species. But the gene counts tell a different story: while orthogroups 1 and 2 are conserved across all three species, they were massively expanded in species 1 and 2, thus, plotting the actual number of genes is helpful (to some extent).\n",
    "\n",
    "There is a caveat to this approach though, because UpsetPlot assume a symetric distribution of the intersected data, the number of genes is inflated in the second plot, thus, the side bars should be removed from the plot, in addition, a pie chart on top of each category could also help to see what species present more genes in each category but so far that has not been implemented"
   ]
  }
 ],
 "metadata": {
  "kernelspec": {
   "display_name": "Python 3 (ipykernel)",
   "language": "python",
   "name": "python3"
  },
  "language_info": {
   "codemirror_mode": {
    "name": "ipython",
    "version": 3
   },
   "file_extension": ".py",
   "mimetype": "text/x-python",
   "name": "python",
   "nbconvert_exporter": "python",
   "pygments_lexer": "ipython3",
   "version": "3.8.10"
  }
 },
 "nbformat": 4,
 "nbformat_minor": 5
}
